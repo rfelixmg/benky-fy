{
 "cells": [
  {
   "cell_type": "code",
   "execution_count": null,
   "id": "a0efae52",
   "metadata": {},
   "outputs": [
    {
     "ename": "SyntaxError",
     "evalue": "invalid syntax (1971156709.py, line 42)",
     "output_type": "error",
     "traceback": [
      "\u001b[0;36m  Cell \u001b[0;32mIn[20], line 42\u001b[0;36m\u001b[0m\n\u001b[0;31m    structures = [random.bernoulli(0.3) * _GREETINGS_] [pool.pop() for i in range(draws)] [random.bernoulli(0.3) * _SENTENCE_ENDING_]\u001b[0m\n\u001b[0m                                                                   ^\u001b[0m\n\u001b[0;31mSyntaxError\u001b[0m\u001b[0;31m:\u001b[0m invalid syntax\n"
     ]
    }
   ],
   "source": [
    "import random\n",
    "import numpy as np\n",
    "\n",
    "TOPIC_TAGS = [\"gym\", \"food\", \"family\", \"travel\", \"school\", \"weather\"]\n",
    "\n",
    "def choose_topic():\n",
    "    \"\"\"Randomly choose a shared topic for coherence.\"\"\"\n",
    "    return random.choice(TOPIC_TAGS)\n",
    "\n",
    "def generate_sentence_seeded_on(pattern, topic=None):\n",
    "    \"\"\"\n",
    "    Stub for sentence generation — extend with your DB/grammar pool.\n",
    "    The `topic` enforces coherence across sentences.\n",
    "    \"\"\"\n",
    "    return f\"[{topic}] Sentence using pattern {pattern}\"\n",
    "\n",
    "def join_and_apply_coherence(sentences, style):\n",
    "    \"\"\"\n",
    "    Coherence enforcer — guarantees all sentences share a topic.\n",
    "    Returns (coherent_flag, sentences_as_string).\n",
    "    \"\"\"\n",
    "    topics = {s.split(\"]\")[0] for s in sentences if s.startswith(\"[\")}\n",
    "    coherent = len(topics) == 1\n",
    "    return coherent, \" / \".join(sentences)\n",
    "\n",
    "def sentence_modifier(patterns):\n",
    "    style = random.choice([\"Q&A\", \"Dialog\", \"Stacked\"])  # stub for random_style\n",
    "    topic = choose_topic()\n",
    "    sentences = [generate_sentence_seeded_on(p, topic=topic) for p in patterns]\n",
    "    coherent = False\n",
    "    while not coherent:\n",
    "        coherent, modified_sentence_user_ready = join_and_apply_coherence(sentences, style)\n",
    "    return modified_sentence_user_ready\n",
    "\n",
    "def session_drawing(stats, max_draw_per_round=3, number_of_rounds=10):\n",
    "    pool = []\n",
    "    patterns = [i for i in range(38)] \n",
    "    for _ in range(10):\n",
    "        random.shuffle(patterns)\n",
    "        pool.extend(patterns)\n",
    "\n",
    "    # insert stats['pattern_critical'] every 3 rounds, and unused patterns every 5 rounds\n",
    "    pattern_not_used = [idx for idx, i in enumerate(stats.get('pattern_count', [])) if i == 0]\n",
    "    random.shuffle(pattern_not_used)\n",
    "    i = 3\n",
    "    while pattern_not_used:\n",
    "        pool = pool[:i] + [pattern_not_used.pop()] + pool[i:]\n",
    "        i += 3\n",
    "\n",
    "    pattern_critical = np.array(stats['pattern_critical']) / (np.array(stats['pattern_count']) + 1e-20)\n",
    "    pattern_critical = [idx for idx, i in enumerate(pattern_critical) if i > 0.5]\n",
    "    i = 5\n",
    "    while pattern_critical:\n",
    "        pool = pool[:i] + [pattern_critical.pop()] + pool[i:]\n",
    "        i += 5\n",
    "\n",
    "    while number_of_rounds > 0:\n",
    "        draws = random.randint(1, max_draw_per_round + 1)\n",
    "        # greetings / endings injection\n",
    "        structures = []\n",
    "        if random.random() < 0.3:\n",
    "            structures.append(\"_GREETINGS_\")\n",
    "        structures.extend([pool.pop() for _ in range(draws)])\n",
    "        if random.random() < 0.3:\n",
    "            structures.append(\"_SENTENCE_ENDING_\")\n",
    "\n",
    "        for i in structures:\n",
    "            if isinstance(i, int):  # only count real pattern IDs\n",
    "                stats[\"pattern_count\"][i] += 1\n",
    "\n",
    "        number_of_rounds -= 1\n",
    "        yield structures\n",
    "\n",
    "    return stats\n",
    "\n",
    "if __name__ == \"__main__\":\n",
    "    stats = {\n",
    "        \"pattern_count\":  [2,2,0,2,1,1,1,1,0,1,1,2,2,2,0,2,2,1,1,0,\n",
    "                        0,2,0,2,2,2,1,2,1,2,0,2,2,2,2,2,2,1,1],\n",
    "\n",
    "        \"pattern_correct\":[2,2,0,2,1,0,1,0,0,1,1,2,2,2,0,2,2,1,1,0,\n",
    "                        0,2,0,2,2,2,2,2,1,2,0,2,2,2,2,2,2,1,1],\n",
    "\n",
    "        \"pattern_critical\":[0,0,0,0,0,1,0,1,0,0,0,0,0,0,0,0,0,0,0,0,\n",
    "                            0,0,0,0,0,0,0,0,0,0,0,0,0,0,0,0,0,0,0],\n",
    "    }\n",
    "\n",
    "    performance = GPTSession.display.feed(session_drawing(stats, max_draw_per_round=4, number_of_rounds=10),\n",
    "                                          fn=sentence_modifier)\n",
    "    GPTSession.evaluator.evaluate(performance, stats).update(\"pattern_correct\").update(\"pattern_critical\")"
   ]
  },
  {
   "cell_type": "code",
   "execution_count": 22,
   "id": "84271f0a",
   "metadata": {},
   "outputs": [
    {
     "name": "stdout",
     "output_type": "stream",
     "text": [
      "False\n"
     ]
    }
   ],
   "source": [
    "stats = {\n",
    "    \"pattern_count\":  [2,2,0,2,1,1,1,1,0,1,1,2,2,2,0,2,2,1,1,0,\n",
    "                       0,2,0,2,2,2,1,2,1,2,0,2,2,2,2,2,2,1,1],\n",
    "\n",
    "    \"pattern_correct\":[2,2,0,2,1,0,1,0,0,1,1,2,2,2,0,2,2,1,1,0,\n",
    "                       0,2,0,2,2,2,2,2,1,2,0,2,2,2,2,2,2,1,1],\n",
    "\n",
    "    \"pattern_critical\":[0,0,0,0,0,1,0,1,0,0,0,0,0,0,0,0,0,0,0,0,\n",
    "                        0,0,0,0,0,0,0,0,0,0,0,0,0,0,0,0,0,0,0],\n",
    "}\n",
    "\n",
    "print(sum(stats[\"pattern_correct\"]) + sum(stats[\"pattern_critical\"]) == sum(stats[\"pattern_count\"]))\n",
    "# ✅ should now return True"
   ]
  },
  {
   "cell_type": "code",
   "execution_count": null,
   "id": "ffa54697",
   "metadata": {},
   "outputs": [],
   "source": []
  }
 ],
 "metadata": {
  "kernelspec": {
   "display_name": ".env",
   "language": "python",
   "name": "python3"
  },
  "language_info": {
   "codemirror_mode": {
    "name": "ipython",
    "version": 3
   },
   "file_extension": ".py",
   "mimetype": "text/x-python",
   "name": "python",
   "nbconvert_exporter": "python",
   "pygments_lexer": "ipython3",
   "version": "3.9.2"
  }
 },
 "nbformat": 4,
 "nbformat_minor": 5
}
