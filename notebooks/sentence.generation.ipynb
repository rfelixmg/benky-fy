{
 "cells": [
  {
   "cell_type": "code",
   "execution_count": 12,
   "id": "a1014aaf",
   "metadata": {},
   "outputs": [
    {
     "name": "stdout",
     "output_type": "stream",
     "text": [
      "🎌 Japanese Sentence Generator Ready!\n",
      "==================================================\n",
      "structure:  A は B です\n",
      "theme:  identity\n",
      "available rules:  ['identity', 'classification', 'action_with_object', 'motion', 'action_at_location', 'destination', 'possession', 'relation', 'description', 'attribution', 'denial', 'contradiction', 'inquiry', 'existence', 'subject_focus', 'property', 'condition']\n",
      "A: phd degree | はくしごう\n",
      "B: counter for books | さつ\n"
     ]
    }
   ],
   "source": [
    "# Import the sentence generator\n",
    "import sys\n",
    "import random\n",
    "import os\n",
    "import pandas as pd\n",
    "sys.path.append('../tmp')\n",
    "from main import JapaneseSentenceGenerator, Sentence\n",
    "\n",
    "# Initialize the generator\n",
    "generator = JapaneseSentenceGenerator()\n",
    "\n",
    "print(\"🎌 Japanese Sentence Generator Ready!\")\n",
    "print(\"=\" * 50)\n",
    "\n",
    "# Function to display sentences nicely\n",
    "def display_sentence(sentence: Sentence):\n",
    "    \"\"\"Display a sentence with nice formatting\"\"\"\n",
    "    print(f\"🎯 Theme: {sentence.theme}\")\n",
    "    print(f\"📝 Structure: {sentence.structure}\")\n",
    "    print(f\"🇯🇵 Japanese: {sentence.japanese}\")\n",
    "    print(f\"🇺🇸 English: {sentence.english}\")\n",
    "    print(f\"🔧 Components: {sentence.components}\")\n",
    "    print(f\"📌 Particles: {sentence.particles}\")\n",
    "    print(f\"➕ Extensions: {sentence.extensions}\")\n",
    "    print(\"-\" * 60)\n",
    "\n",
    "# Test with different themes\n",
    "themes_to_test = [\"identity\", \"motion\", \"action_with_object\", \"description\", \"possession\"]\n",
    "\n",
    "sentence = generator.generate_sentence(random.choice(themes_to_test))\n",
    "print(\"structure: \", sentence.structure)\n",
    "print(\"theme: \", sentence.theme)\n",
    "print(\"available rules: \", list(generator.rules.keys()))\n",
    "for key, value in sentence.components.items():\n",
    "    if isinstance(value, dict):\n",
    "        print(f\"{key}: {value['english']} | {value['hiragana']}\")\n",
    "    else:\n",
    "        print(f\"{key}: {value}\")"
   ]
  },
  {
   "cell_type": "code",
   "execution_count": 13,
   "id": "1937ca80",
   "metadata": {},
   "outputs": [
    {
     "name": "stdout",
     "output_type": "stream",
     "text": [
      "🎯 Theme: identity\n",
      "📝 Structure: A は B です\n",
      "🇯🇵 Japanese: はくしごう は さつ です\n",
      "🇺🇸 English: phd degree is counter for books\n",
      "🔧 Components: {'A': {'english': 'phd degree', 'kanji': '博士号', 'kana': 'はくしごう', 'hiragana': 'はくしごう', 'romaji': 'hakushigou', 'entity': 'thing', 'semantic': ['category', 'material', 'type'], 'tags': ['academia'], 'jlpt_level': 'n2', 'priority_group': 'p1', 'category': 'noun'}, 'B': {'english': 'counter for books', 'kanji': '～さつ', 'kana': 'さつ', 'hiragana': 'さつ', 'romaji': 'satsu', 'entity': 'thing', 'semantic': ['category', 'material', 'type'], 'tags': ['counters'], 'jlpt_level': 'n5', 'priority_group': 'p3', 'category': 'counter'}}\n",
      "📌 Particles: ['は']\n",
      "➕ Extensions: ['です']\n",
      "------------------------------------------------------------\n"
     ]
    }
   ],
   "source": [
    "# Display the generated sentence with enhanced formatting\n",
    "display_sentence(sentence)\n"
   ]
  },
  {
   "cell_type": "code",
   "execution_count": 14,
   "id": "88997aa8",
   "metadata": {},
   "outputs": [
    {
     "name": "stdout",
     "output_type": "stream",
     "text": [
      "📋 Available Themes and Rules:\n",
      "==================================================\n",
      "             Theme        Structure   Particles           Extensions           Slots\n",
      "          identity         A は B です           は                   です            A, B\n",
      "    classification         A は B です           は                   です            A, B\n",
      "action_with_object         A を Verb           を ます, ません, ました, ませんでした         A, Verb\n",
      "            motion A は Place に Verb        は, に ます, ません, ました, ませんでした  A, Place, Verb\n",
      "action_at_location         A で Verb           で ます, ません, ました, ませんでした         A, Verb\n",
      "       destination       A へ/に Verb        へ, に ます, ません, ました, ませんでした         A, Verb\n",
      "        possession            A の B           の                                 A, B\n",
      "          relation            A の B           の                                 A, B\n",
      "       description       A は Adj です       は, です            くない, でしょう          A, Adj\n",
      "       attribution       Adj + Noun                                        Adj, Noun\n",
      "            denial         Negation    ない, ではない                  ません Verb, Adj, Noun\n",
      "     contradiction         Negation    ない, ではない                  ません Verb, Adj, Noun\n",
      "           inquiry         Question か, Wh-words            でしょう, だろう          clause\n",
      "         existence         A が Verb           が         Wh-questions         A, Verb\n",
      "     subject_focus         A が Verb           が         Wh-questions         A, Verb\n",
      "          property      A は B が Adj        は, が                  くない       A, B, Adj\n",
      "         condition      A は B が Adj        は, が                  くない       A, B, Adj\n"
     ]
    }
   ],
   "source": [
    "# Explore the rules data\n",
    "print(\"📋 Available Themes and Rules:\")\n",
    "print(\"=\" * 50)\n",
    "\n",
    "# Convert rules to DataFrame for better visualization\n",
    "rules_data = []\n",
    "for theme, rule in generator.rules.items():\n",
    "    rules_data.append({\n",
    "        'Theme': theme,\n",
    "        'Structure': rule['structure'],\n",
    "        'Particles': ', '.join(rule['particles']),\n",
    "        'Extensions': ', '.join(rule['extensions']),\n",
    "        'Slots': ', '.join(rule['slots'].keys())\n",
    "    })\n",
    "\n",
    "rules_df = pd.DataFrame(rules_data)\n",
    "print(rules_df.to_string(index=False))\n"
   ]
  },
  {
   "cell_type": "code",
   "execution_count": 15,
   "id": "a16acc5a",
   "metadata": {},
   "outputs": [
    {
     "name": "stdout",
     "output_type": "stream",
     "text": [
      "🎲 Generating Multiple Sentences:\n",
      "==================================================\n",
      "\n",
      "🎯 Sentence 1 - Theme: motion\n",
      "📝 Structure: A は Place に Verb\n",
      "🇯🇵 Japanese: にほんじん は おてら に はなすます\n",
      "🇺🇸 English: japanese person to speak to temple\n",
      "----------------------------------------\n",
      "\n",
      "🎯 Sentence 2 - Theme: identity\n",
      "📝 Structure: A は B です\n",
      "🇯🇵 Japanese: てんいん は さつ です\n",
      "🇺🇸 English: clerk, shop staff is counter for books\n",
      "----------------------------------------\n",
      "\n",
      "🎯 Sentence 3 - Theme: possession\n",
      "📝 Structure: A の B\n",
      "🇯🇵 Japanese: ひと の つくえ\n",
      "🇺🇸 English: person's desk\n",
      "----------------------------------------\n"
     ]
    }
   ],
   "source": [
    "# Generate multiple sentences and compare\n",
    "print(\"🎲 Generating Multiple Sentences:\")\n",
    "print(\"=\" * 50)\n",
    "\n",
    "for i in range(3):\n",
    "    theme = random.choice(themes_to_test)\n",
    "    sentence = generator.generate_sentence(theme)\n",
    "    print(f\"\\n🎯 Sentence {i+1} - Theme: {theme}\")\n",
    "    print(f\"📝 Structure: {sentence.structure}\")\n",
    "    print(f\"🇯🇵 Japanese: {sentence.japanese}\")\n",
    "    print(f\"🇺🇸 English: {sentence.english}\")\n",
    "    print(\"-\" * 40)\n"
   ]
  },
  {
   "cell_type": "code",
   "execution_count": 8,
   "id": "dba3cd73",
   "metadata": {},
   "outputs": [
    {
     "data": {
      "text/plain": [
       "'ひと は ひと です'"
      ]
     },
     "execution_count": 8,
     "metadata": {},
     "output_type": "execute_result"
    }
   ],
   "source": [
    "sentence.japanese"
   ]
  },
  {
   "cell_type": "code",
   "execution_count": null,
   "id": "3d03353d",
   "metadata": {},
   "outputs": [],
   "source": []
  }
 ],
 "metadata": {
  "kernelspec": {
   "display_name": ".env",
   "language": "python",
   "name": "python3"
  },
  "language_info": {
   "codemirror_mode": {
    "name": "ipython",
    "version": 3
   },
   "file_extension": ".py",
   "mimetype": "text/x-python",
   "name": "python",
   "nbconvert_exporter": "python",
   "pygments_lexer": "ipython3",
   "version": "3.9.2"
  }
 },
 "nbformat": 4,
 "nbformat_minor": 5
}
