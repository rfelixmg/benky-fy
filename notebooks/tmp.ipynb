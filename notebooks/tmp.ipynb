{
 "cells": [
  {
   "cell_type": "code",
   "execution_count": 32,
   "id": "d9a60ec1",
   "metadata": {},
   "outputs": [],
   "source": [
    "import ast, itertools\n",
    "import json\n",
    "import random\n",
    "import pandas as pd\n",
    "from collections import Counter"
   ]
  },
  {
   "cell_type": "code",
   "execution_count": 3,
   "id": "c15f4858",
   "metadata": {},
   "outputs": [],
   "source": [
    "# Load core structures\n",
    "with open('/Users/rafaelfelix/Projects/demos/benky-fy/tmp/core.json', 'r', encoding='utf-8') as f:\n",
    "    core_data = {key: pd.DataFrame(item) for key, item in json.load(f).items()}\n",
    "    structures = core_data['structures']\n",
    "    vocab = core_data['vocab'] = pd.read_json('/Users/rafaelfelix/Projects/demos/benky-fy/tmp/vocab.json')\n",
    "    verbs = pd.read_json('/Users/rafaelfelix/Projects/demos/benky-fy/tmp/verbs.json')\n",
    "vocab_interests = json.load(open('/Users/rafaelfelix/Projects/demos/benky-fy/tmp/vocab_interests.json'))\n"
   ]
  },
  {
   "cell_type": "code",
   "execution_count": null,
   "id": "59337295",
   "metadata": {},
   "outputs": [
    {
     "name": "stdout",
     "output_type": "stream",
     "text": [
      "structure:  A を Verb\n",
      "theme:  action with object\n",
      "A: sandwich\n",
      "Verb: to know\n"
     ]
    }
   ],
   "source": [
    "structure = structures.sample(1).iloc[0]\n",
    "# vocab intrests:\n",
    "#  politeness, people_identity, daily_life_lifestyle, places_travel_events, \n",
    "#  knowledge_communication, nature_description, actions_time, ai_professional\n",
    "vocab_criterias = [\n",
    "    (\"priority_group\", [\"p0\", \"p1\", \"p2\"]),\n",
    "    (\"tags\", vocab_interests['places_travel_events'])\n",
    "]\n",
    "\n",
    "tvocab = vocab.copy()\n",
    "for key, value in vocab_criterias:\n",
    "    tvocab = tvocab[tvocab[key].apply(lambda x: bool(set(x) & set(value)) if isinstance(x, list) else x in value)]\n",
    "\n",
    "words = {}\n",
    "for key, value in structure.slots.items():\n",
    "    if key == 'clause':\n",
    "        print(NotImplementedError(\"Clause is not implemented yet\"))\n",
    "    elif key == \"Verb\":\n",
    "        if value != \"any\" and value != [\"any\"]:\n",
    "            pool = verbs[verbs.tags.apply(\n",
    "                lambda x: bool(set(x['semantic'] if isinstance(x['semantic'], list) else [x['semantic']]) & set(value))\n",
    "            )]\n",
    "        else:\n",
    "            pool = verbs\n",
    "    elif key == \"Adj\":\n",
    "        pool = vocab[vocab.category.isin([\"adjective\"])]\n",
    "    else:\n",
    "        pool = tvocab[tvocab.category.isin(value)]\n",
    "    words[key] = pool.sample().iloc[0].english\n",
    "    \n",
    "print(\"structure: \", structure.structure)\n",
    "print(\"theme: \", random.choice(structure.theme))\n",
    "for key, value in words.items():\n",
    "    print(f'{key}: {value}')\n"
   ]
  },
  {
   "cell_type": "code",
   "execution_count": 57,
   "id": "63022ec3",
   "metadata": {},
   "outputs": [
    {
     "name": "stdout",
     "output_type": "stream",
     "text": [
      "structure: A は B です\n",
      "theme: identity\n",
      "A: {'english': 'pork cutlet', 'possibilities': ['noun', 'pronoun'], 'hiragana': 'ビジネスシューズ'}\n",
      "B: {'english': 'beer', 'possibilities': ['noun', 'na-adj', 'i-adj'], 'hiragana': 'ところ'}\n"
     ]
    }
   ],
   "source": [
    "import random\n",
    "\n",
    "# -------------------------------\n",
    "# Theme constraints\n",
    "# -------------------------------\n",
    "theme_constraints = {\n",
    "    \"action with object\": {\n",
    "        \"verb_semantics\": [\"action\", \"transaction\", \"communication\", \"physiological\", \"artistic\", \"learning\"],\n",
    "        \"noun_tags\": [\"food\", \"object\", \"shopping\", \"daily\", \"social\"]\n",
    "    },\n",
    "    \"motion / destination\": {\n",
    "        \"verb_semantics\": [\"motion\"],\n",
    "        \"noun_tags\": [\"place\", \"location\", \"travel\"]\n",
    "    },\n",
    "    \"existence / subject focus\": {\n",
    "        \"verb_semantics\": [\"existence\", \"stative\", \"cognitive\"],\n",
    "        \"noun_tags\": [\"people\", \"object\", \"place\"]\n",
    "    },\n",
    "    \"description\": {\n",
    "        \"verb_semantics\": [],   # adj-driven\n",
    "        \"adj_tags\": [\"adjective\"],\n",
    "        \"noun_tags\": [\"object\", \"people\"]\n",
    "    },\n",
    "    \"possession / relation\": {\n",
    "        \"verb_semantics\": [],   # noun-driven\n",
    "        \"noun_tags\": [\"people\", \"object\"]\n",
    "    },\n",
    "    \"inquiry\": {\n",
    "        \"verb_semantics\": [\"any\"],\n",
    "        \"noun_tags\": [\"any\"]\n",
    "    },\n",
    "    \"negation\": {\n",
    "        \"verb_semantics\": [\"any\"],\n",
    "        \"noun_tags\": [\"any\"]\n",
    "    }\n",
    "}\n",
    "\n",
    "# -------------------------------\n",
    "# Sentence generation\n",
    "# -------------------------------\n",
    "def generate_sentence(structures, verbs, vocab):\n",
    "# if True:\n",
    "    # 1. Pick structure\n",
    "    # structure = structures.sample(1).iloc[0]\n",
    "    theme = structure.theme if isinstance(structure.theme, str) else structure.theme[0]\n",
    "    constraints = theme_constraints.get(theme, {\"verb_semantics\": [\"any\"], \"noun_tags\": [\"any\"]})\n",
    "\n",
    "    words = {}\n",
    "    for key, value in structure.slots.items():\n",
    "        # Clause (not implemented yet)\n",
    "        if key == \"clause\":\n",
    "            continue\n",
    "\n",
    "        # Verb selection\n",
    "        elif key == \"Verb\":\n",
    "            if constraints[\"verb_semantics\"] and \"any\" not in constraints[\"verb_semantics\"]:\n",
    "                pool = verbs[verbs.tags.apply(\n",
    "                    lambda t: bool(set(t.get(\"semantic\", [])) & set(constraints[\"verb_semantics\"]))\n",
    "                )]\n",
    "            else:\n",
    "                pool = verbs\n",
    "\n",
    "        # Adjective selection\n",
    "        elif key == \"Adj\":\n",
    "            pool = vocab[vocab.category.isin([\"adjective\"])]\n",
    "\n",
    "        # Noun / other slots\n",
    "        else:\n",
    "            if constraints[\"noun_tags\"] and \"any\" not in constraints[\"noun_tags\"]:\n",
    "                pool = vocab[vocab.tags.apply(\n",
    "                    lambda t: bool(set(t) & set(constraints[\"noun_tags\"]))\n",
    "                )]\n",
    "            else:\n",
    "                pool = vocab[vocab.category.isin(value)]\n",
    "\n",
    "        # Fallback if empty\n",
    "        if pool.empty:\n",
    "            pool = vocab if key != \"Verb\" else verbs\n",
    "\n",
    "        # Pick one word\n",
    "        # print(key, value, pool.shape)\n",
    "        words[key] = {\n",
    "            'english':pool.sample().iloc[0].english,\n",
    "            'possibilities': value,\n",
    "            'hiragana': pool.sample().iloc[0].hiragana if 'hiragana' in pool.columns else pool.sample().iloc[0].furigana,\n",
    "        }\n",
    "\n",
    "    # -------------------------------\n",
    "    # Print result\n",
    "    # -------------------------------\n",
    "    print(\"structure:\", structure.structure)\n",
    "    print(\"theme:\", theme)\n",
    "    for k, v in words.items():\n",
    "        print(f\"{k}: {v}\")\n",
    "\n",
    "    return words\n",
    "\n",
    "_ = generate_sentence(structures, verbs, vocab)"
   ]
  },
  {
   "cell_type": "code",
   "execution_count": 63,
   "id": "b1ef9720",
   "metadata": {},
   "outputs": [
    {
     "data": {
      "text/plain": [
       "array(['daily', 'general', 'conversation', 'business', 'home', 'work',\n",
       "       'routine', 'travel', 'health', 'social', 'school', 'shopping',\n",
       "       'market', 'learning', 'entertainment', 'nature', 'weather',\n",
       "       'emotion', 'personal', 'life', 'cooking', 'craft'], dtype=object)"
      ]
     },
     "execution_count": 63,
     "metadata": {},
     "output_type": "execute_result"
    }
   ],
   "source": [
    "verbs.tags.apply(lambda x: x['usage']).explode().unique()"
   ]
  },
  {
   "cell_type": "code",
   "execution_count": 75,
   "id": "be2d3235",
   "metadata": {},
   "outputs": [
    {
     "data": {
      "text/plain": [
       "array(['A', 'B', 'Verb', 'Adj', 'Noun', 'clause'], dtype=object)"
      ]
     },
     "execution_count": 75,
     "metadata": {},
     "output_type": "execute_result"
    }
   ],
   "source": [
    "structures.slots.apply(lambda x: x.keys()).explode().unique()"
   ]
  },
  {
   "cell_type": "code",
   "execution_count": 81,
   "id": "13f98201",
   "metadata": {},
   "outputs": [],
   "source": [
    "context = vocab.english.tolist()"
   ]
  },
  {
   "cell_type": "code",
   "execution_count": 84,
   "id": "2200e504",
   "metadata": {},
   "outputs": [],
   "source": [
    "context += verbs.english.tolist()"
   ]
  },
  {
   "cell_type": "code",
   "execution_count": 85,
   "id": "541c7b7f",
   "metadata": {},
   "outputs": [],
   "source": [
    "with open('/Users/rafaelfelix/Projects/demos/benky-fy/tmp/context-words.txt', 'w') as f:\n",
    "    f.write('\\n'.join(context))"
   ]
  },
  {
   "cell_type": "code",
   "execution_count": 87,
   "id": "b4638a4b",
   "metadata": {},
   "outputs": [
    {
     "data": {
      "text/plain": [
       "structure                                              A は B です\n",
       "theme                                [identity, classification]\n",
       "slots         {'A': ['noun', 'pronoun'], 'B': ['noun', 'na-a...\n",
       "particles                                               [は, です]\n",
       "extensions                                            [か, ではない]\n",
       "example                                             わたしは せんせいです\n",
       "Name: 0, dtype: object"
      ]
     },
     "execution_count": 87,
     "metadata": {},
     "output_type": "execute_result"
    }
   ],
   "source": [
    "structures.iloc[0]"
   ]
  },
  {
   "cell_type": "code",
   "execution_count": null,
   "id": "d7adcc68",
   "metadata": {},
   "outputs": [],
   "source": []
  }
 ],
 "metadata": {
  "kernelspec": {
   "display_name": ".env",
   "language": "python",
   "name": "python3"
  },
  "language_info": {
   "codemirror_mode": {
    "name": "ipython",
    "version": 3
   },
   "file_extension": ".py",
   "mimetype": "text/x-python",
   "name": "python",
   "nbconvert_exporter": "python",
   "pygments_lexer": "ipython3",
   "version": "3.9.2"
  }
 },
 "nbformat": 4,
 "nbformat_minor": 5
}
